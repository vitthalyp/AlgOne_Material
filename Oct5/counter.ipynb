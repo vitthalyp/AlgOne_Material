{
 "cells": [
  {
   "cell_type": "code",
   "execution_count": 1,
   "metadata": {},
   "outputs": [
    {
     "name": "stdout",
     "output_type": "stream",
     "text": [
      "G is a finite group of order: 96\n",
      "These two elements of H violate closure property:\n",
      "(1,3)(2,4)(5,7)(6,8)(9,11)(10,12)(13,15)(14,16)(17,19)(18,20)(21,23)(22,24)(25,27)(26,28)(29,31)(30,32)\n",
      "(1,2)(3,4)(5,6)(7,8)(9,10)(11,12)(13,14)(15,16)(17,18)(19,20)(21,22)(23,24)(25,26)(27,28)(29,30)(31,32)\n"
     ]
    }
   ],
   "source": [
    "# Generators were found by Mariano Suarez-Alvarez here:\n",
    "# https://math.stackexchange.com/questions/7811/derived-subgroup-where-not-every-element-is-a-commutator\n",
    "\n",
    "G = PermutationGroup([[(3,8,6),(4,7,5),(9,27,17),(10,28,18),(11,30,22),(12,29,21),(13,26,23),(14,25,24),(15,31,20),(16,32,19)],\n",
    "                      [(1,17,7,23),(2,18,8,24),(3,19,5,21),(4,20,6,22),(9,26,15,32),(10,25,16,31),(11,28,13,30),(12,27,14,29)],\n",
    "                      [(1,9,5,13),(2,10,6,14),(3,11,7,15),(4,12,8,16),(17,25,21,29),(18,26,22,30),(19,27,23,31),(20,28,24,32)],\n",
    "                      [(1,5),(2,6),(3,7),(4,8),(9,13),(10,14),(11,15),(12,16),(17,21),(18,22),(19,23),(20,24),(25,29),(26,30),(27,31),(28,32)],\n",
    "                      [(1,3),(2,4),(5,7),(6,8),(9,11),(10,12),(13,15),(14,16),(17,19),(18,20),(21,23),(22,24),(25,27),(26,28),(29,31),(30,32)],\n",
    "                      [(1,2),(3,4),(5,6),(7,8),(9,10),(11,12),(13,14),(15,16),(17,18),(19,20),(21,22),(23,24),(25,26),(27,28),(29,30),(31,32)]])\n",
    "\n",
    "print(\"G is a finite group of order:\", G.order())\n",
    "sub = []\n",
    "for g in G:\n",
    "    for h in G:\n",
    "        temp = g*h*g^-1*h^-1\n",
    "        if temp not in sub:\n",
    "            sub.append(temp)\n",
    "            \n",
    "def groupCheck(sub):\n",
    "    for g in sub:\n",
    "        for h in sub:\n",
    "            if g*h not in sub:\n",
    "                print(\"These two elements of H violate closure property:\")\n",
    "                print(g)\n",
    "                print(h)\n",
    "                return\n",
    "            \n",
    "groupCheck(sub)"
   ]
  }
 ],
 "metadata": {
  "kernelspec": {
   "display_name": "SageMath 9.1",
   "language": "sage",
   "name": "sagemath"
  },
  "language_info": {
   "codemirror_mode": {
    "name": "ipython",
    "version": 3
   },
   "file_extension": ".py",
   "mimetype": "text/x-python",
   "name": "python",
   "nbconvert_exporter": "python",
   "pygments_lexer": "ipython3",
   "version": "3.7.3"
  }
 },
 "nbformat": 4,
 "nbformat_minor": 2
}
