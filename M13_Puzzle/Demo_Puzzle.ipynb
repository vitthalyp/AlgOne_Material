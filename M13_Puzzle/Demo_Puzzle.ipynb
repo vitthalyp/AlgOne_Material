{
 "cells": [
  {
   "cell_type": "code",
   "execution_count": 26,
   "metadata": {
    "jupyter": {
     "source_hidden": true
    },
    "scrolled": false,
    "tags": [
     "remove_input"
    ]
   },
   "outputs": [
    {
     "data": {
      "text/html": [
       "\n",
       "    <script>\n",
       "    function code_toggle() {\n",
       "        if ($('div.cell.code_cell.rendered.selected div.input').css('display')!='none'){\n",
       "            $('div.cell.code_cell.rendered.selected div.input').hide();\n",
       "        } else {\n",
       "            $('div.cell.code_cell.rendered.selected div.input').show();\n",
       "        }\n",
       "    }\n",
       "    </script>\n",
       "\n",
       "\n",
       "<form action=\"javascript:code_toggle()\"><input type=\"submit\" id=\"toggleButton\" value=\"Toggle Code\"></form>\n"
      ],
      "text/plain": [
       "<IPython.core.display.HTML object>"
      ]
     },
     "metadata": {},
     "output_type": "display_data"
    },
    {
     "data": {
      "application/vnd.jupyter.widget-view+json": {
       "model_id": "4d1708c9c283422286d2c7eeb9bc28b1",
       "version_major": 2,
       "version_minor": 0
      },
      "text/plain": [
       "Manual interactive function <function _ at 0x6fe199107b8> with 1 widget\n",
       "  describe: Dropdown(description='desc…"
      ]
     },
     "metadata": {},
     "output_type": "display_data"
    },
    {
     "data": {
      "application/vnd.jupyter.widget-view+json": {
       "model_id": "926c3fcf00324da2a908ed4aeecbb830",
       "version_major": 2,
       "version_minor": 0
      },
      "text/plain": [
       "Manual interactive function <function _ at 0x6fe126f2d90> with 1 widget\n",
       "  push: Dropdown(description='push', o…"
      ]
     },
     "metadata": {},
     "output_type": "display_data"
    }
   ],
   "source": [
    "from IPython.core.display import display, HTML\n",
    "toggle_code_str = '''\n",
    "<form action=\"javascript:code_toggle()\"><input type=\"submit\" id=\"toggleButton\" value=\"Toggle Code\"></form>\n",
    "'''\n",
    "\n",
    "toggle_code_prepare_str = '''\n",
    "    <script>\n",
    "    function code_toggle() {\n",
    "        if ($('div.cell.code_cell.rendered.selected div.input').css('display')!='none'){\n",
    "            $('div.cell.code_cell.rendered.selected div.input').hide();\n",
    "        } else {\n",
    "            $('div.cell.code_cell.rendered.selected div.input').show();\n",
    "        }\n",
    "    }\n",
    "    </script>\n",
    "\n",
    "'''\n",
    "\n",
    "display(HTML(toggle_code_prepare_str + toggle_code_str))\n",
    "def toggle_code():\n",
    "    display(HTML(toggle_code_str))\n",
    "    \n",
    "phi = (1+sqrt(5))/2\n",
    "icosaVertices = [(0,0,0),(1,phi,0),(-1,phi,0),(0,1,phi),(-1,-phi,0),(0,-1,phi),(-phi,0,1),(0,1,-phi),(0,-1,-phi),(phi,0,1),(1,-phi,0),(phi,0,-1),(-phi,0,-1)]\n",
    "centered = {'0' : [0,[1,2,3],[4,5,6],[9,10,11],[7,8,12]],\n",
    "            '1' : [1,[0,2,3],[4,8,9],[6,7,11],[5,10,12]],\n",
    "            '2' : [2,[0,1,3],[4,11,12],[6,8,10],[5,7,9]],\n",
    "            '3' : [3,[0,1,2],[4,7,10],[5,8,11],[6,9,12]],\n",
    "            '4' : [4,[0,5,6],[1,8,9],[3,7,10],[2,11,12]],\n",
    "            '5' : [5,[0,4,6],[1,10,12],[3,8,11],[2,7,9]],\n",
    "            '6' : [6,[0,4,5],[1,7,11],[2,8,10],[3,9,12]],\n",
    "            '7' : [7,[0,8,12],[1,6,11],[3,4,10],[2,5,9]],\n",
    "            '8' : [8,[0,7,12],[1,4,9],[3,5,11],[2,6,10]],\n",
    "            '9' : [9,[0,10,11],[1,4,8],[2,5,7],[3,6,12]],\n",
    "            '10': [10,[0,9,11],[1,5,12],[3,4,7],[2,6,8]],\n",
    "            '11': [11,[0,9,10],[1,6,7],[3,5,8],[2,4,12]],\n",
    "            '12': [12,[0,7,8],[1,5,10],[2,4,11],[3,6,9]]}\n",
    "\n",
    "class icosaPuzzle:\n",
    "    def __init__(self):\n",
    "        self.center = 0\n",
    "        self.icosaColor = ['black','red','orange','darkkhaki','lawngreen','green','darkseagreen','fuchsia','pink','aquamarine','cadetblue','cornflowerblue','indigo']\n",
    "        return\n",
    "    def icosaGenTotal(self):\n",
    "        Lines = point((0,0,0), size = 10, color = 'white')\n",
    "        for k in range(13):\n",
    "            temp = centered[str(k)]\n",
    "            for i in range(1,5):\n",
    "                for j in range(3):\n",
    "                    Lines += line([icosaVertices[temp[0]],icosaVertices[temp[i][j]]], color = 'black')\n",
    "                    Lines += line([icosaVertices[temp[i][(j-1)%3]],icosaVertices[temp[i][j]]], color = 'black')\n",
    "        for i in range(13):\n",
    "            Lines += point(icosaVertices[i], color = self.icosaColor[i],size = 40)\n",
    "        show(Lines,axes = False)\n",
    "        return\n",
    "    def icosaGenLocal(self):\n",
    "        temp = centered[str(self.center)]\n",
    "        Lines = point((0,0,0), color = 'white')\n",
    "        for i in range(1,5):\n",
    "            for j in range(3):\n",
    "                Lines += line([icosaVertices[temp[0]],icosaVertices[temp[i][j]]], color = 'black')\n",
    "                Lines += line([icosaVertices[temp[i][(j-1)%3]],icosaVertices[temp[i][j]]], color = 'black')\n",
    "        for i in range(13):\n",
    "            Lines += point(icosaVertices[i], color = self.icosaColor[i],size = 40)\n",
    "        show(Lines, axes = False)\n",
    "        return\n",
    "    def icosaGenIsolate(self, other):\n",
    "        end = self.icosaColor.index(other)\n",
    "        Lines = point((0,0,0), color = 'white')\n",
    "        temp = centered[str(self.center)]\n",
    "        for i in range(1,5):\n",
    "            if (end in temp[i]):\n",
    "                for j in range(3):\n",
    "                    Lines += line([icosaVertices[temp[0]],icosaVertices[temp[i][j]]], color = 'black')\n",
    "                    Lines += line([icosaVertices[temp[i][(j-1)%3]],icosaVertices[temp[i][j]]], color = 'black')\n",
    "                break\n",
    "        for i in range(13):\n",
    "            Lines += point(icosaVertices[i], color = self.icosaColor[i],size = 40)\n",
    "        show(Lines, axes = False)\n",
    "        return\n",
    "    def icosaExchange(self,other):\n",
    "        end = self.icosaColor.index(other)\n",
    "        temp = centered[str(self.center)]\n",
    "        self.icosaColor[self.center], self.icosaColor[end] = self.icosaColor[end], self.icosaColor[self.center]\n",
    "        temptwo = []\n",
    "        for i in range(1,5):\n",
    "            if (end in temp[i]):\n",
    "                self.center = end\n",
    "                for t in temp[i]:\n",
    "                    if t != end:\n",
    "                        temptwo.append(t)\n",
    "                self.icosaColor[temptwo[0]], self.icosaColor[temptwo[1]] = self.icosaColor[temptwo[1]], self.icosaColor[temptwo[0]]\n",
    "                return\n",
    "def rotate(c):\n",
    "    P = point((cos(c*pi),sin(c*pi),0), color = 'black', size = 30, axes = False)\n",
    "    P += point((-cos(c*pi),-sin(c*pi),0), color = 'red', size = 30)\n",
    "    P += line([(cos(c*pi),sin(c*pi),0),(-cos(c*pi),-sin(c*pi),0)], color = 'black')\n",
    "    P += point((-sin(c*pi),cos(c*pi),1), color = 'orange', size = 30)\n",
    "    P += point((sin(c*pi),-cos(c*pi),1), color = 'darkkhaki', size = 30)\n",
    "    P += line([(-sin(c*pi),cos(c*pi),1),(sin(c*pi),-cos(c*pi),1)], color = 'black')\n",
    "    P += line([(-sin(c*pi),cos(c*pi),1),(cos(c*pi),sin(c*pi),0)], color = 'black')\n",
    "    P += line([(-sin(c*pi),cos(c*pi),1),(-cos(c*pi),-sin(c*pi),0)], color = 'black')\n",
    "    P += line([(cos(c*pi),sin(c*pi),0),(sin(c*pi),-cos(c*pi),1)], color = 'black')\n",
    "    P += line([(-cos(c*pi),-sin(c*pi),0),(sin(c*pi),-cos(c*pi),1)], color = 'black')\n",
    "    return P\n",
    "P = [rotate(c) for c in sxrange(0,1,0.1)]\n",
    "Q = [rotate(1) for c in sxrange(0,1,0.1)]\n",
    "P = P+Q\n",
    "P = animate(P)\n",
    "@interact\n",
    "def _(describe = selector(['NO','YES']), auto_update = False):\n",
    "    if describe == 'YES':\n",
    "        I = icosaPuzzle()\n",
    "        print(\"This is a demo of the M-13 puzzle.\\nThe puzzle involves twelve colored counters and one empty space.\\n\")\n",
    "        print(\"This is how the puzzle looks like in the solved state:\")\n",
    "        I.icosaGenLocal()\n",
    "        print(\"Suppose you'd like to push the red counter into the empty cell.\\nThe puzzle isolates a tetrahedron that has the red counter and the empty hole as vertices:\\n\")\n",
    "        I.icosaGenIsolate(\"red\")\n",
    "        print(\"The puzzle will then rotate this tetrahedron, please wait for the animation to render:\\n\")\n",
    "        P.show()\n",
    "        print(\"Thus the puzzle changes to:\\n\")\n",
    "        I.icosaExchange(\"red\")\n",
    "        I.icosaGenLocal()\n",
    "    else:\n",
    "        print(\"\")\n",
    "counter = ['reset','red','orange','darkkhaki','lawngreen','green','darkseagreen','fuchsia','pink','indigo','cadetblue','cornflowerblue','aquamarine']\n",
    "J = icosaPuzzle()\n",
    "@interact\n",
    "def _(push = selector(counter), auto_update = False):\n",
    "    if push == 'reset':\n",
    "        print(\"Scrambling the puzzle...\\n\")\n",
    "        for i in range(10):\n",
    "            J.icosaExchange(counter[randint(1,12)])\n",
    "        J.icosaGenLocal()\n",
    "    else:\n",
    "        J.icosaExchange(push)\n",
    "        J.icosaGenLocal()"
   ]
  }
 ],
 "metadata": {
  "kernelspec": {
   "display_name": "SageMath 9.1",
   "language": "sage",
   "name": "sagemath"
  },
  "language_info": {
   "codemirror_mode": {
    "name": "ipython",
    "version": 3
   },
   "file_extension": ".py",
   "mimetype": "text/x-python",
   "name": "python",
   "nbconvert_exporter": "python",
   "pygments_lexer": "ipython3",
   "version": "3.7.3"
  }
 },
 "nbformat": 4,
 "nbformat_minor": 2
}
