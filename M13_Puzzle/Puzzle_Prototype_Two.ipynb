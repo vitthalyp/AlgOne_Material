{
 "cells": [
  {
   "cell_type": "code",
   "execution_count": 2,
   "metadata": {},
   "outputs": [
    {
     "data": {
      "application/vnd.jupyter.widget-view+json": {
       "model_id": "12cfa049c9ce43969265ce3c5abf033e",
       "version_major": 2,
       "version_minor": 0
      },
      "text/plain": [
       "Manual interactive function <function _ at 0x6fec95abb70> with 1 widget\n",
       "  push: Dropdown(description='push', o…"
      ]
     },
     "metadata": {},
     "output_type": "display_data"
    }
   ],
   "source": [
    "# table keeps track of the presentation of the puzzle\n",
    "\n",
    "centered = {'0' : [0,[1,2,3],[4,5,6],[9,10,11],[7,8,12]],\n",
    "            '1' : [1,[0,2,3],[4,8,9],[6,7,11],[5,10,12]],\n",
    "            '2' : [2,[0,1,3],[4,11,12],[6,8,10],[5,7,9]],\n",
    "            '3' : [3,[0,1,2],[4,7,10],[5,8,11],[6,9,12]],\n",
    "            '4' : [4,[0,5,6],[1,8,9],[3,7,10],[2,11,12]],\n",
    "            '5' : [5,[0,4,6],[1,10,12],[3,8,11],[2,7,9]],\n",
    "            '6' : [6,[0,4,5],[1,7,11],[2,8,10],[3,9,12]],\n",
    "            '7' : [7,[0,8,12],[1,6,11],[3,4,10],[2,5,9]],\n",
    "            '8' : [8,[0,7,12],[1,4,9],[3,5,11],[2,6,10]],\n",
    "            '9' : [9,[0,10,11],[1,4,8],[2,5,7],[3,6,12]],\n",
    "            '10': [10,[0,9,11],[1,5,12],[3,4,7],[2,6,8]],\n",
    "            '11': [11,[0,9,10],[1,6,7],[3,5,8],[2,4,12]],\n",
    "            '12': [12,[0,7,8],[1,5,10],[2,4,11],[3,6,9]]}\n",
    "\n",
    "RomanLocations = [(0,0,0),(0.5,0.1,0.1),(0.1,0.5,0.1),(0.1,0.1,0.5),(-0.5,-0.1,0.1),(-0.1,-0.5,0.1),(-0.1,-0.1,0.5),(0.5,-0.1,-0.1),(0.1,-0.5,-0.1),(0.1,-0.1,-0.5),(-0.1,0.1,-0.5),(-0.5,0.1,-0.1),(-0.1,0.5,-0.1)]\n",
    "RomanColor = ['black','red','orange','darkkhaki','lawngreen','green','darkseagreen','fuchsia','pink','indigo','cadetblue','cornflowerblue','aquamarine']\n",
    "\n",
    "var('x,y,z')\n",
    "T = implicit_plot3d(x^2*y^2+y^2*z^2+z^2*x^2-x*y*z == 0,(x,-1,1),(y,-1,1),(z,-1,1))\n",
    "\n",
    "class RomanPuzzle:\n",
    "    def __init__(self,center):\n",
    "        self.center = center\n",
    "    def romanGen(self):\n",
    "        temp = centered[str(self.center)]\n",
    "        P = point(RomanLocations[0], color = RomanColor[temp[0]],size = 40)\n",
    "        for i in range(1,5):\n",
    "            for j in range(3):\n",
    "                P += point(RomanLocations[3*i+j-2], color = RomanColor[temp[i][j]],size = 40)\n",
    "        show(T+P)\n",
    "    def exchange(self,color):\n",
    "        if color == 'black':\n",
    "            return\n",
    "        else:\n",
    "            temp = centered[str(self.center)]\n",
    "            newCenter = RomanColor.index(color)\n",
    "            for i in range(1,5):\n",
    "                for j in range(3):\n",
    "                    if RomanColor[temp[i][j]] == color:\n",
    "                        RomanColor[self.center],RomanColor[temp[i][j]] = RomanColor[temp[i][j]],RomanColor[self.center]\n",
    "                        RomanColor[temp[i][(j+1)%3]],RomanColor[temp[i][(j-1)%3]] = RomanColor[temp[i][(j-1)%3]],RomanColor[temp[i][(j+1)%3]]\n",
    "                        self.center = newCenter\n",
    "                        return\n",
    "                \n",
    "R = RomanPuzzle(0)\n",
    "\n",
    "@interact\n",
    "def _(push = selector(RomanColor),auto_update = False):\n",
    "    R.exchange(push)\n",
    "    R.romanGen()"
   ]
  }
 ],
 "metadata": {
  "kernelspec": {
   "display_name": "SageMath 9.1",
   "language": "sage",
   "name": "sagemath"
  },
  "language_info": {
   "codemirror_mode": {
    "name": "ipython",
    "version": 3
   },
   "file_extension": ".py",
   "mimetype": "text/x-python",
   "name": "python",
   "nbconvert_exporter": "python",
   "pygments_lexer": "ipython3",
   "version": "3.7.3"
  }
 },
 "nbformat": 4,
 "nbformat_minor": 2
}
