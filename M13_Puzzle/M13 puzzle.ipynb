{
 "cells": [
  {
   "cell_type": "code",
   "execution_count": 1,
   "metadata": {},
   "outputs": [
    {
     "name": "stdout",
     "output_type": "stream",
     "text": [
      "This is a prototype of the M13 puzzle.\n",
      "Select the color of the peg that you would like to push into the hole (the black peg).\n",
      "Pushing the black peg is equivalent to doing nothing.\n",
      "\n"
     ]
    },
    {
     "data": {
      "application/vnd.jupyter.widget-view+json": {
       "model_id": "7278be848bc041ffa011d72b481a18e1",
       "version_major": 2,
       "version_minor": 0
      },
      "text/plain": [
       "TWFudWFsIGludGVyYWN0aXZlIGZ1bmN0aW9uIDxmdW5jdGlvbiBfIGF0IDB4NmZlYmI5OWNlNjA+IHdpdGggMiB3aWRnZXRzCiAgcHVzaDogRHJvcGRvd24oZGVzY3JpcHRpb249dSdwdXNoJyzigKY=\n"
      ]
     },
     "metadata": {},
     "output_type": "display_data"
    }
   ],
   "source": [
    "vertices = [(cos(2*pi*n/13),sin(2*pi*n/13)) for n in (0,1,2,3,4,5,6,7,8,9,10,11,12)]\n",
    "colors = ['black','red','orange','darkkhaki','green','lawngreen','darkseagreen','cadetblue','cornflowerblue','blue','indigo','pink','fuchsia']\n",
    "T = polygon(vertices, fill=False, color='black',axes=False)\n",
    "\n",
    "class puzzlePeg:\n",
    "    def __init__(self,num):\n",
    "        self.vertex = vertices[num]\n",
    "        self.color = colors[num]\n",
    "    def getColor(self):\n",
    "        return self.color\n",
    "    def changeColor(self,new):\n",
    "        self.color = new\n",
    "    def pointGen(self):\n",
    "        P = point(self.vertex, color = self.color, size = 80)\n",
    "        return P\n",
    "        \n",
    "class puzzleLine:\n",
    "    def __init__(self,node0,node1,node2,node3):\n",
    "        self.list = [node0,node1,node2,node3]\n",
    "    def colorList(self):\n",
    "        temp = []\n",
    "        for n in self.list:\n",
    "            temp.append(n.getColor())\n",
    "        return temp\n",
    "    def move(self, start, end):\n",
    "        if start == end:\n",
    "            return\n",
    "        else:\n",
    "            colors = self.colorList()\n",
    "            flip = []\n",
    "            for c in colors:\n",
    "                if c == start:\n",
    "                    startNum = colors.index(c)\n",
    "                elif c == end:\n",
    "                    endNum = colors.index(c)\n",
    "                else:\n",
    "                    flip.append(colors.index(c))\n",
    "            self.list[startNum].changeColor(end)\n",
    "            self.list[endNum].changeColor(start)\n",
    "            self.list[flip[0]].changeColor(colors[flip[1]])\n",
    "            self.list[flip[1]].changeColor(colors[flip[0]])\n",
    "    def isContained(self, start, end):\n",
    "        listOf = self.colorList()\n",
    "        condition1 = start in listOf\n",
    "        condition2 = end in listOf\n",
    "        return (condition1 and condition2)\n",
    "\n",
    "Point0 = puzzlePeg(0)\n",
    "Point1 = puzzlePeg(1)\n",
    "Point2 = puzzlePeg(2)\n",
    "Point3 = puzzlePeg(3)\n",
    "Point4 = puzzlePeg(4)\n",
    "Point5 = puzzlePeg(5)\n",
    "Point6 = puzzlePeg(6)\n",
    "Point7 = puzzlePeg(7)\n",
    "Point8 = puzzlePeg(8)\n",
    "Point9 = puzzlePeg(9)\n",
    "Point10 = puzzlePeg(10)\n",
    "Point11 = puzzlePeg(11)\n",
    "Point12 = puzzlePeg(12)\n",
    "\n",
    "Points = [Point0, Point1, Point2, Point3, Point4, Point5, Point6, Point7, Point8, Point9, Point10, Point11, Point12]\n",
    "\n",
    "Line0 = puzzleLine(Point0,Point1,Point2,Point3)\n",
    "Line1 = puzzleLine(Point0,Point4,Point5,Point6)\n",
    "Line2 = puzzleLine(Point0,Point9,Point10,Point11)\n",
    "Line3 = puzzleLine(Point0,Point7,Point8,Point12)\n",
    "Line4 = puzzleLine(Point1,Point4,Point8,Point9)\n",
    "Line5 = puzzleLine(Point1,Point6,Point7,Point11)\n",
    "Line6 = puzzleLine(Point1,Point5,Point10,Point12)\n",
    "Line7 = puzzleLine(Point3,Point5,Point8,Point11)\n",
    "Line8 = puzzleLine(Point3,Point4,Point7,Point10)\n",
    "Line9 = puzzleLine(Point2,Point4,Point11,Point12)\n",
    "Line10 = puzzleLine(Point2,Point6,Point8,Point10)\n",
    "Line11 = puzzleLine(Point2,Point5,Point7,Point9)\n",
    "Line12 = puzzleLine(Point3,Point6,Point9,Point12)\n",
    "\n",
    "Puzzle = [Line0, Line1, Line2, Line3, Line4, Line5, Line6, Line7, Line8, Line9, Line10, Line11, Line12]\n",
    "\n",
    "def puzzleMove(start,end):\n",
    "    for l in Puzzle:\n",
    "        if l.isContained(start,end):\n",
    "            l.move(start,end)\n",
    "            break\n",
    "\n",
    "print('This is a prototype of the M13 puzzle.\\nSelect the color of the peg that you would like to push into the hole (the black peg).\\nPushing the black peg is equivalent to doing nothing.\\n')\n",
    "@interact\n",
    "def _(push = selector(colors),buttons = True, auto_update = False):\n",
    "    T = polygon(vertices, fill=False, color='black',axes=False)\n",
    "    puzzleMove('black',push)\n",
    "    for p in Points:\n",
    "        T += p.pointGen()\n",
    "    show(T)"
   ]
  }
 ],
 "metadata": {
  "kernelspec": {
   "display_name": "SageMath 8.7",
   "language": "",
   "name": "sagemath"
  },
  "language_info": {
   "codemirror_mode": {
    "name": "ipython",
    "version": 2
   },
   "file_extension": ".py",
   "mimetype": "text/x-python",
   "name": "python",
   "nbconvert_exporter": "python",
   "pygments_lexer": "ipython2",
   "version": "2.7.15"
  }
 },
 "nbformat": 4,
 "nbformat_minor": 2
}
