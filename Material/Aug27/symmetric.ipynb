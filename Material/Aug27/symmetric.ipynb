{
 "cells": [
  {
   "cell_type": "code",
   "execution_count": 1,
   "metadata": {},
   "outputs": [
    {
     "name": "stdout",
     "output_type": "stream",
     "text": [
      "To check the labelling of elements set display to Yes.\n",
      "\n"
     ]
    },
    {
     "data": {
      "application/vnd.jupyter.widget-view+json": {
       "model_id": "ee8221df630a40d69abb6a6d48744673",
       "version_major": 2,
       "version_minor": 0
      },
      "text/plain": [
       "TWFudWFsIGludGVyYWN0aXZlIGZ1bmN0aW9uIDxmdW5jdGlvbiBfIGF0IDB4NmZlZDM4MWIwNTA+IHdpdGggMyB3aWRnZXRzCiAgZGlzcGxheTogRHJvcGRvd24oZGVzY3JpcHRpb249dSdkaXPigKY=\n"
      ]
     },
     "metadata": {},
     "output_type": "display_data"
    }
   ],
   "source": [
    "pointa1 = point((-1,1),color='red', size = 80)\n",
    "pointa2 = point((-1,-1),color='red', size = 80)\n",
    "pointb1 = point((0,1),color='blue', size = 80)\n",
    "pointb2 = point((0,-1),color='blue', size = 80)\n",
    "pointc1 = point((1,1),color='green', size = 80)\n",
    "pointc2 = point((1,-1),color='green', size = 80)\n",
    "\n",
    "T = pointa1+pointa2+pointb1+pointb2+pointc1+pointc2\n",
    "\n",
    "Line11 = line([(-1,1),(-1,-1)],color='black')\n",
    "Line12 = line([(-1,1),(0,-1)],color='black')\n",
    "Line13 = line([(-1,1),(1,-1)],color='black')\n",
    "Line21 = line([(0,1),(-1,-1)],color='black')\n",
    "Line22 = line([(0,1),(0,-1)],color='black')\n",
    "Line23 = line([(0,1),(1,-1)],color='black')\n",
    "Line31 = line([(1,1),(-1,-1)],color='black')\n",
    "Line32 = line([(1,1),(0,-1)],color='black')\n",
    "Line33 = line([(1,1),(1,-1)],color='black')\n",
    "\n",
    "s1 = T+Line11+Line22+Line33\n",
    "s2 = T+Line11+Line23+Line32\n",
    "s3 = T+Line12+Line21+Line33\n",
    "s4 = T+Line13+Line22+Line31\n",
    "s5 = T+Line12+Line23+Line31\n",
    "s6 = T+Line13+Line21+Line32\n",
    "\n",
    "table = {'s1': [s1,s2,s3,s4,s5,s6],\n",
    "         's2': [s2,s1,s5,s6,s3,s4],\n",
    "         's3': [s3,s6,s1,s5,s4,s2],\n",
    "         's4': [s4,s5,s6,s1,s2,s3],\n",
    "         's5': [s5,s4,s2,s3,s6,s1],\n",
    "         's6': [s6,s3,s4,s2,s1,s5]}\n",
    "\n",
    "keys = ['None','s1','s2','s3','s4','s5','s6']\n",
    "print('To check the labelling of elements set display to Yes.\\n')\n",
    "@interact\n",
    "def _(display = selector(['No',\"Yes\"]),first = selector(keys),second = selector(keys),auto_update = False):\n",
    "    if display == 'Yes':\n",
    "        print('s1')\n",
    "        show(s1,axes=False)\n",
    "        print('s2')\n",
    "        show(s2,axes=False)\n",
    "        print('s3')\n",
    "        show(s3,axes=False)\n",
    "        print('s4')\n",
    "        show(s4,axes=False)\n",
    "        print('s5')\n",
    "        show(s5,axes=False)\n",
    "        print('s6')\n",
    "        show(s6,axes=False)\n",
    "    else:\n",
    "        if first == 'None' or second == 'None':\n",
    "            print('Provide input.\\n')\n",
    "        else:\n",
    "            row = table[first]\n",
    "            other = table[second]\n",
    "            column = keys.index(second)-1\n",
    "            state = row[column]\n",
    "            f = row[0]\n",
    "            s = other[0]\n",
    "            print(first)\n",
    "            show(f,axes=False)\n",
    "            print(second)\n",
    "            show(s,axes=False)\n",
    "            print('evaluates to')\n",
    "            show(state,axes=False)"
   ]
  }
 ],
 "metadata": {
  "kernelspec": {
   "display_name": "SageMath 8.7",
   "language": "",
   "name": "sagemath"
  },
  "language_info": {
   "codemirror_mode": {
    "name": "ipython",
    "version": 2
   },
   "file_extension": ".py",
   "mimetype": "text/x-python",
   "name": "python",
   "nbconvert_exporter": "python",
   "pygments_lexer": "ipython2",
   "version": "2.7.15"
  }
 },
 "nbformat": 4,
 "nbformat_minor": 2
}
