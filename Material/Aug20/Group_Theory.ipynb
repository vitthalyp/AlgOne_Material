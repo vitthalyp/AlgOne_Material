{
 "cells": [
  {
   "cell_type": "code",
   "execution_count": 2,
   "metadata": {},
   "outputs": [
    {
     "data": {
      "application/vnd.jupyter.widget-view+json": {
       "model_id": "994449060fd44cae9a6b01d42e90ce8a",
       "version_major": 2,
       "version_minor": 0
      },
      "text/plain": [
       "TWFudWFsIGludGVyYWN0aXZlIGZ1bmN0aW9uIDxmdW5jdGlvbiBfIGF0IDB4NmZlZDFlMjlhMjg+IHdpdGggMSB3aWRnZXQKICBhY3Rpb246IERyb3Bkb3duKGRlc2NyaXB0aW9uPXUnYWN0aW/igKY=\n"
      ]
     },
     "metadata": {},
     "output_type": "display_data"
    }
   ],
   "source": [
    "T = polygon([(1,0),(-0.5,sqrt(3)/2),(-0.5,-sqrt(3)/2)],fill=False, color='black',axes=False)\n",
    "P11 = point((1,0),color='red',size=80)\n",
    "P12 = point((1,0),color='green',size=80)\n",
    "P13 = point((1,0),color='blue',size=80)\n",
    "P21 = point((-0.5,sqrt(3)/2),color='green',size=80)\n",
    "P22 = point((-0.5,sqrt(3)/2),color='blue',size=80)\n",
    "P23 = point((-0.5,sqrt(3)/2),color='red',size=80)\n",
    "P31 = point((-0.5,-sqrt(3)/2),color='blue',size=80)\n",
    "P32 = point((-0.5,-sqrt(3)/2),color='red',size=80)\n",
    "P33 = point((-0.5,-sqrt(3)/2),color='green',size=80)\n",
    "\n",
    "s1 = T+P11+P21+P31\n",
    "s2 = T+P11+P22+P33 \n",
    "s3 = T+P12+P22+P32 \n",
    "s4 = T+P12+P23+P31 \n",
    "s5 = T+P13+P23+P33 \n",
    "s6 = T+P13+P21+P32 \n",
    "\n",
    "class node:\n",
    "    def __init__(self,now):\n",
    "        self.picture = now\n",
    "        self.rot = None\n",
    "        self.mir = None\n",
    "    def set_rot(self,r):\n",
    "        self.rot = r\n",
    "    def set_mir(self,m):\n",
    "        self.mir = m\n",
    "    def get_rot(self):\n",
    "        return self.rot\n",
    "    def get_mir(self):\n",
    "        return self.mir\n",
    "    def get_image(self):\n",
    "        return self.picture\n",
    "\n",
    "class Cayley:\n",
    "    def _init__(self):\n",
    "        self.head = None\n",
    "    def addNode(self,node):\n",
    "        self.head = node\n",
    "    def getNode(self):\n",
    "        return self.head\n",
    "\n",
    "State1 = node(s1)\n",
    "State2 = node(s2)\n",
    "State3 = node(s3)\n",
    "State4 = node(s4)\n",
    "State5 = node(s5)\n",
    "State6 = node(s6)\n",
    "\n",
    "State1.set_rot(State5)\n",
    "State1.set_mir(State2)\n",
    "State2.set_rot(State4)\n",
    "State2.set_mir(State1)\n",
    "State3.set_rot(State1)\n",
    "State3.set_mir(State4)\n",
    "State4.set_rot(State6)\n",
    "State4.set_mir(State3)\n",
    "State5.set_rot(State3)\n",
    "State5.set_mir(State6)\n",
    "State6.set_rot(State2)\n",
    "State6.set_mir(State5)\n",
    "\n",
    "G = Cayley()\n",
    "G.addNode(State1)\n",
    "\n",
    "def nothing():\n",
    "    temp = G.getNode().get_image()\n",
    "    show(temp)\n",
    "def rotation():\n",
    "    temp = G.getNode().get_rot()\n",
    "    G.addNode(temp)\n",
    "    show(temp.get_image())\n",
    "def mirror():\n",
    "    temp = G.getNode().get_mir()\n",
    "    G.addNode(temp)\n",
    "    show(temp.get_image())\n",
    "\n",
    "@interact\n",
    "def _(action=selector(['nothing','rotation','mirror']),auto_update=False):\n",
    "    action = eval(action)\n",
    "    action()"
   ]
  }
 ],
 "metadata": {
  "kernelspec": {
   "display_name": "SageMath 8.7",
   "language": "",
   "name": "sagemath"
  },
  "language_info": {
   "codemirror_mode": {
    "name": "ipython",
    "version": 2
   },
   "file_extension": ".py",
   "mimetype": "text/x-python",
   "name": "python",
   "nbconvert_exporter": "python",
   "pygments_lexer": "ipython2",
   "version": "2.7.15"
  }
 },
 "nbformat": 4,
 "nbformat_minor": 2
}
