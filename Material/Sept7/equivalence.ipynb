{
 "cells": [
  {
   "cell_type": "code",
   "execution_count": 1,
   "metadata": {},
   "outputs": [
    {
     "name": "stdout",
     "output_type": "stream",
     "text": [
      "Please wait for the images to render.\n",
      "\n"
     ]
    },
    {
     "data": {
      "application/vnd.jupyter.widget-view+json": {
       "model_id": "ffa7c50096ae460db0395c4fc40b39f9",
       "version_major": 2,
       "version_minor": 0
      },
      "text/plain": [
       "Manual interactive function <function _ at 0x6feb375a6a8> with 1 widget\n",
       "  display: Dropdown(description='displ…"
      ]
     },
     "metadata": {},
     "output_type": "display_data"
    }
   ],
   "source": [
    "x = var('x')\n",
    "y = var('y')\n",
    "z = var('z')\n",
    "P = point((1,1,1),color = 'white')\n",
    "def helix(c):\n",
    "    return parametric_plot3d((c*cos(2*pi*x),x,c*sin(2*pi*x)),(x,-0.5,c),color='black',axes =False)+parametric_plot3d((c*cos(2*pi*c),x,c*sin(2*pi*c)),(x,c,1),color='black',axes =False)+P\n",
    "S = animate([helix(c) for c in sxrange(10^(-6),1,0.1)])\n",
    "\n",
    "def helical(c):\n",
    "    T = parametric_plot3d((cos(2*pi*x),x,sin(2*pi*x)), (x,-2,1), color = 'black', axes = False)\n",
    "    T += point((cos(2*pi*c),c,sin(2*pi*c)))\n",
    "    T += point((cos(2*pi*c),c-1,sin(2*pi*c)),color = 'red')\n",
    "    T += point((cos(2*pi*c),c-2,sin(2*pi*c)),color = 'green')\n",
    "    T += parametric_plot3d((cos(2*pi*x),2.5,sin(2*pi*x)), (x,0,1),axes = False, color='black')\n",
    "    T += point((cos(2*pi*c),2.5,sin(2*pi*c)),color='black')\n",
    "    return T\n",
    "T = animate([helical(c) for c in sxrange(10^(-6),1,0.1)])\n",
    "\n",
    "print('Please wait for the images to render.\\n')\n",
    "@interact\n",
    "def _(display = selector(['Coil','Classes']),auto_update = False):\n",
    "    if display == 'Coil':\n",
    "        print('Coiling the real line into a helix.\\n')\n",
    "        S.show()\n",
    "    else:\n",
    "        print('The red, green, and blue points on the helix are identified with the single black point on the circle.\\n')\n",
    "        T.show()"
   ]
  }
 ],
 "metadata": {
  "kernelspec": {
   "display_name": "SageMath 9.1",
   "language": "sage",
   "name": "sagemath"
  },
  "language_info": {
   "codemirror_mode": {
    "name": "ipython",
    "version": 3
   },
   "file_extension": ".py",
   "mimetype": "text/x-python",
   "name": "python",
   "nbconvert_exporter": "python",
   "pygments_lexer": "ipython3",
   "version": "3.7.3"
  }
 },
 "nbformat": 4,
 "nbformat_minor": 2
}
