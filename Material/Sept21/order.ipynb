{
 "cells": [
  {
   "cell_type": "code",
   "execution_count": 2,
   "metadata": {},
   "outputs": [
    {
     "name": "stdout",
     "output_type": "stream",
     "text": [
      "Subgroup sizes of S3\n",
      "[1, 2, 3, 6]\n",
      "\n",
      "\n",
      "Subgroup sizes of D3\n",
      "[1, 2, 3, 6]\n",
      "\n",
      "\n",
      "Subgroup sizes of Z/6Z\n",
      "[1, 2, 3, 6]\n",
      "\n",
      "\n"
     ]
    }
   ],
   "source": [
    "# subgroup lister\n",
    "\n",
    "def subGroup(G):\n",
    "    subGroupOrders = []\n",
    "    [subGroupOrders.append(h.order()) for h in G.conjugacy_classes_subgroups() if h.order() not in subGroupOrders]\n",
    "    print(subGroupOrders)\n",
    "    return\n",
    "\n",
    "# Test Cases\n",
    "\n",
    "# Permutation group on three symbols\n",
    "print(\"Subgroup sizes of S3\")\n",
    "G = SymmetricGroup(3)\n",
    "subGroup(G)\n",
    "print(\"\\n\")\n",
    "\n",
    "# Set of symmetries of the equilateral triangle\n",
    "print(\"Subgroup sizes of D3\")\n",
    "H = DihedralGroup(3)\n",
    "subGroup(H)\n",
    "print(\"\\n\")\n",
    "\n",
    "# Cyclic group of size 6\n",
    "print(\"Subgroup sizes of Z/6Z\")\n",
    "I = CyclicPermutationGroup(6)\n",
    "subGroup(I)\n",
    "print(\"\\n\")"
   ]
  }
 ],
 "metadata": {
  "kernelspec": {
   "display_name": "SageMath 9.1",
   "language": "sage",
   "name": "sagemath"
  },
  "language_info": {
   "codemirror_mode": {
    "name": "ipython",
    "version": 3
   },
   "file_extension": ".py",
   "mimetype": "text/x-python",
   "name": "python",
   "nbconvert_exporter": "python",
   "pygments_lexer": "ipython3",
   "version": "3.7.3"
  }
 },
 "nbformat": 4,
 "nbformat_minor": 2
}
